{
  "nbformat": 4,
  "nbformat_minor": 0,
  "metadata": {
    "colab": {
      "provenance": [],
      "authorship_tag": "ABX9TyNS/dK6zUwdnspGVXk8fAnL",
      "include_colab_link": true
    },
    "kernelspec": {
      "name": "python3",
      "display_name": "Python 3"
    },
    "language_info": {
      "name": "python"
    }
  },
  "cells": [
    {
      "cell_type": "markdown",
      "metadata": {
        "id": "view-in-github",
        "colab_type": "text"
      },
      "source": [
        "<a href=\"https://colab.research.google.com/github/jspark3/jspark3/blob/main/Amazon_Review_Classifier_Assignment.ipynb\" target=\"_parent\"><img src=\"https://colab.research.google.com/assets/colab-badge.svg\" alt=\"Open In Colab\"/></a>"
      ]
    },
    {
      "cell_type": "code",
      "source": [
        "import pandas as pd\n",
        "from sklearn.feature_extraction.text import CountVectorizer\n",
        "from sklearn.naive_bayes import MultinomialNB\n",
        "from sklearn.metrics import confusion_matrix"
      ],
      "metadata": {
        "id": "haXWWig19gSu"
      },
      "execution_count": null,
      "outputs": []
    },
    {
      "cell_type": "code",
      "source": [
        "# Given a list of tokens and a list of vocabulary\n",
        "# Return the count of each vocabulary occurance in the list of tokens\n",
        "def vectorize(tokens, filtered_vocab):\n",
        "    vector=[]\n",
        "    # For each word in filtered vocabulary list append the number of occurances in the tokens\n",
        "    for word in filtered_vocab:\n",
        "      vector.append(tokens.count(word))\n",
        "    return vector"
      ],
      "metadata": {
        "id": "UDW5eo3pAa2G"
      },
      "execution_count": null,
      "outputs": []
    },
    {
      "cell_type": "code",
      "execution_count": null,
      "metadata": {
        "id": "GpThyhsl9akt"
      },
      "outputs": [],
      "source": [
        "# Given Key Words\n",
        "key_words = [\"great\", \"happy\", \"bad\", \"return\"]\n",
        "# I am using tab separated version that is why delimiter = \\t\n",
        "# It is common in texts, especially reviews, to see a comma in them\n",
        "dataset = pd.read_csv(\"reviews.txt\", delimiter = \"\\t\", quoting = 3, encoding= 'unicode_escape')\n",
        "# Convert the words in the reviews colom to lower case\n",
        "dataset['Review'] = dataset['Review'].str.strip().str.lower()"
      ]
    },
    {
      "cell_type": "code",
      "source": [
        "# This will return the \n",
        "vectors = []\n",
        "for i in dataset['Review']:\n",
        "  tokens = i.split()\n",
        "  vector = vectorize(tokens, key_words)\n",
        "  vectors.append(vector)\n",
        "df = pd.DataFrame(vectors, columns = key_words)\n",
        "print(df)\n"
      ],
      "metadata": {
        "colab": {
          "base_uri": "https://localhost:8080/"
        },
        "id": "qrwX67b2HXc1",
        "outputId": "71f0f06a-1d23-4b46-ccfc-3371227f668d"
      },
      "execution_count": null,
      "outputs": [
        {
          "output_type": "stream",
          "name": "stdout",
          "text": [
            "   great  happy  bad  return\n",
            "0      0      2    1       0\n",
            "1      1      1    0       0\n",
            "2      1      1    1       0\n",
            "3      0      1    0       0\n",
            "4      1      1    1       0\n",
            "5      0      1    0       0\n",
            "6      0      0    3       1\n",
            "7      0      0    1       0\n",
            "8      1      1    1       1\n",
            "9      0      0    0       1\n"
          ]
        }
      ]
    },
    {
      "cell_type": "code",
      "source": [
        "texts = [\"The phone arrived in pretty decent condition. The front screen was scratch-free and the display is great, but there is a long scratch on the back of the phone. This doesn't bother me much because I always have a case on my phone. However, the issue with this phone is that the cellular signal won't work; the device detects the sim but the signal is bad. Apparently this is an issue with some iPhone 7 models, but the any free of charge repair is not valid because the phone is coming from a third party seller. After speaking with Apple, Verizon (my mobile carrier), AND Amazon, I've reached the conclusion that the issue is with the phone. I've tried everything to troubleshoot, but I will unfortunately have to return the item and get another one.\", \"iPhone 7 Black came in excellent condition. Like new. No scratches or scuffs. Works great. Was happy for couple months until phone started to develop issues with hearing callers and vs versa. Callers can’t hear me and I can’t hear callers, the sound is bad. Checked settings . Disabled WiFi calling. Hard reset phone. Updated iOS. Happens randomly. Suspect possible known defects on iPhone 7 with audio IC chips. I want to return the phone but I’m waiting to se for a month\"]\n",
        "vectors = []\n",
        "for text in texts:\n",
        "  tokens = text.split()\n",
        "  neet = vectorize(tokens, key_words)\n",
        "  vectors.append(neet)\n",
        "df = pd.DataFrame(vectors, columns = key_words)\n",
        "print(df)"
      ],
      "metadata": {
        "colab": {
          "base_uri": "https://localhost:8080/"
        },
        "id": "IF_5MxVMVAqq",
        "outputId": "44865c23-8ae0-436e-f096-a018abddd717"
      },
      "execution_count": null,
      "outputs": [
        {
          "output_type": "stream",
          "name": "stdout",
          "text": [
            "   great  happy  bad  return\n",
            "0      0      0    0       1\n",
            "1      0      1    0       1\n"
          ]
        }
      ]
    },
    {
      "cell_type": "code",
      "source": [
        "X = dataset['Review']\n",
        "y = dataset['Liked']\n",
        "vector = CountVectorizer(stop_words='english', vocabulary=key_words)\n",
        "X = vector.fit_transform(X).toarray()\n",
        "model = MultinomialNB()\n",
        "model.fit(X,y)\n"
      ],
      "metadata": {
        "colab": {
          "base_uri": "https://localhost:8080/"
        },
        "id": "kKVUsgMN9jsp",
        "outputId": "2e1515fe-0e48-4919-9e7b-f843c8df92cf"
      },
      "execution_count": null,
      "outputs": [
        {
          "output_type": "execute_result",
          "data": {
            "text/plain": [
              "MultinomialNB()"
            ]
          },
          "metadata": {},
          "execution_count": 98
        }
      ]
    },
    {
      "cell_type": "code",
      "source": [
        "prediction = model.predict(vector.transform(texts))\n",
        "for p in prediction:\n",
        "  if p == 1:\n",
        "    print(\"Positive\")\n",
        "  else:\n",
        "    print(\"Negative\")"
      ],
      "metadata": {
        "colab": {
          "base_uri": "https://localhost:8080/"
        },
        "id": "73JEKQMM-IDq",
        "outputId": "ab2501cd-539d-4633-da33-4d27ae2b6eaa"
      },
      "execution_count": null,
      "outputs": [
        {
          "output_type": "stream",
          "name": "stdout",
          "text": [
            "Negative\n",
            "Positive\n"
          ]
        }
      ]
    },
    {
      "cell_type": "code",
      "source": [],
      "metadata": {
        "id": "PB71NXsMcIEl"
      },
      "execution_count": null,
      "outputs": []
    }
  ]
}